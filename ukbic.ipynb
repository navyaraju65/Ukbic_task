{
 "cells": [
  {
   "cell_type": "code",
   "execution_count": 46,
   "id": "50d26bbe-fada-4b5f-a405-7677ff571c06",
   "metadata": {},
   "outputs": [],
   "source": [
    "import os\n",
    "import csv\n",
    "import pandas as pd\n",
    "import numpy as np\n",
    "import matplotlib.pyplot as plt\n",
    "import seaborn as sns\n"
   ]
  },
  {
   "cell_type": "code",
   "execution_count": 7,
   "id": "bc4367df-722c-4eed-922c-a28fa6f8e292",
   "metadata": {},
   "outputs": [
    {
     "name": "stdout",
     "output_type": "stream",
     "text": [
      "CSV Files: ['Test6828_23082300069 000895-01 03.csv', 'Test6828_23082300070 000895-01 03.csv', 'Test6828_23082300071 000895-01 03.csv', 'Test6828_23082300072 000895-01 03.csv', 'Test6828_23082300074 000895-01 03.csv', 'Test6828_23082300077 000895-01 03.csv', 'Test6828_23082300078 000895-01 03.csv', 'Test6828_23082300079 000895-01 03.csv', 'Test6828_23082300080 000895-01 03.csv', 'Test6828_23082300081 000895-01 03.csv', 'Test6828_23082300082 000895-01 03.csv', 'Test6828_23082300083 000895-01 03.csv', 'Test6828_23082300084 000895-01 03.csv', 'Test6828_23082300085 000895-01 03.csv', 'Test6828_23082300087 000895-01 03.csv', 'Test6828_23082300089 000895-01 03.csv', 'Test6828_23082300090 000895-01 03.csv', 'Test6828_23082300091 000895-01 03.csv', 'Test6829_23082200038 000895-01 03.csv', 'Test6829_23082200040 000895-01 03.csv', 'Test6829_23082300042 000895-01 03.csv', 'Test6829_23082300044 000895-01 03.csv', 'Test6829_23082300046 000895-01 03.csv', 'Test6829_23082300049 000895-01 03.csv', 'Test6829_23082300050 000895-01 03.csv', 'Test6829_23082300051 000895-01 03.csv', 'Test6829_23082300053 000895-01 03.csv', 'Test6829_23082300054 000895-01 03.csv', 'Test6829_23082300055 000895-01 03.csv', 'Test6829_23082300056 000895-01 03.csv', 'Test6829_23082300057 000895-01 03.csv', 'Test6829_23082300059 000895-01 03.csv', 'Test6829_23082300061 000895-01 03.csv', 'Test6829_23082300062 000895-01 03.csv', 'Test6829_23082300065 000895-01 03.csv', 'Test6829_23082300066 000895-01 03.csv', 'Test6829_23082300068 000895-01 03.csv']\n",
      "There are 37 CSV files in the folder.\n"
     ]
    }
   ],
   "source": [
    "# Set the path to your folder\n",
    "folder_path = r\"C:\\Users\\navya\\Desktop\\Interview Exercise\\csv Dataset\"\n",
    "\n",
    "# Get the list of CSV files in the folder\n",
    "csv_files = [f for f in os.listdir(folder_path) if f.endswith(\".csv\")]\n",
    "print(f\"CSV Files: {csv_files}\")\n",
    "print(f\"There are {len(csv_files)} CSV files in the folder.\")"
   ]
  },
  {
   "cell_type": "code",
   "execution_count": 15,
   "id": "164d3404-a509-4b13-ad8f-60ade2a56143",
   "metadata": {},
   "outputs": [
    {
     "name": "stdout",
     "output_type": "stream",
     "text": [
      "Merged DataFrame:\n",
      "     Test  Cell   Rack Shelf  Position                   Cell ID  Step  \\\n",
      "0  6828.0   1.0  R.D05    S1      22.0  23082300069 000895-01 03   0.0   \n",
      "1  6828.0   1.0  R.D05    S1      22.0  23082300069 000895-01 03   0.0   \n",
      "2  6828.0   1.0  R.D05    S1      22.0  23082300069 000895-01 03   0.0   \n",
      "3  6828.0   1.0  R.D05    S1      22.0  23082300069 000895-01 03   0.0   \n",
      "4  6828.0   1.0  R.D05    S1      22.0  23082300069 000895-01 03   0.0   \n",
      "\n",
      "  Instruction Name  Cycle  Total Time (Seconds)  ...  17  24  \\\n",
      "0             Idle    0.0                  0.01  ... NaN NaN   \n",
      "1             Idle    0.0                  5.00  ... NaN NaN   \n",
      "2             Idle    0.0                 10.00  ... NaN NaN   \n",
      "3             Idle    0.0                 15.00  ... NaN NaN   \n",
      "4             Idle    0.0                 20.00  ... NaN NaN   \n",
      "\n",
      "   23082300090 000895-01 03  -1333  18  23  23082300091 000895-01 03  184.8  \\\n",
      "0                       NaN    NaN NaN NaN                       NaN    NaN   \n",
      "1                       NaN    NaN NaN NaN                       NaN    NaN   \n",
      "2                       NaN    NaN NaN NaN                       NaN    NaN   \n",
      "3                       NaN    NaN NaN NaN                       NaN    NaN   \n",
      "4                       NaN    NaN NaN NaN                       NaN    NaN   \n",
      "\n",
      "   -1343  183.6  \n",
      "0    NaN    NaN  \n",
      "1    NaN    NaN  \n",
      "2    NaN    NaN  \n",
      "3    NaN    NaN  \n",
      "4    NaN    NaN  \n",
      "\n",
      "[5 rows x 168 columns]\n"
     ]
    }
   ],
   "source": [
    "# Step 3: Initialize an empty list to hold DataFrames\n",
    "df_list = []\n",
    "\n",
    "# Step 4: Loop through all CSV files\n",
    "for index, filename in enumerate(csv_files):\n",
    "    file_path = os.path.join(folder_path, filename)\n",
    "    \n",
    "    # Step 5: Read the CSV file, skipping the first 52 rows for the first file\n",
    "    if index == 0:\n",
    "        df = pd.read_csv(file_path, skiprows=51)  # Skip first 52 rows for the first file\n",
    "    else:\n",
    "        df = pd.read_csv(file_path, skiprows=52)  # Skip first 52 rows for subsequent files and take from 53rd row\n",
    "    \n",
    "    # Append the DataFrame to the list\n",
    "    df_list.append(df)\n",
    "\n",
    "# Step 6: Merge all DataFrames into a single DataFrame\n",
    "merged_df = pd.concat(df_list, ignore_index=True)\n",
    "\n",
    "# Step 7: Print the first few rows of the merged DataFrame to verify\n",
    "print(\"Merged DataFrame:\")\n",
    "print(merged_df.head(5))"
   ]
  },
  {
   "cell_type": "code",
   "execution_count": 39,
   "id": "6aaefda9-283e-42f9-9ad4-cded166ee0de",
   "metadata": {},
   "outputs": [
    {
     "name": "stdout",
     "output_type": "stream",
     "text": [
      "Merged CSV file saved at: C:\\Users\\navya\\Desktop\\Interview Exercise\\csv Dataset\\merged_data.csv\n"
     ]
    }
   ],
   "source": [
    "# Specify the directory where you want to save the merged file\n",
    "merged_csv_path = r\"C:\\Users\\navya\\Desktop\\Interview Exercise\\csv Dataset\"\n",
    "\n",
    "# Create the full path by joining the directory with the file name\n",
    "merged_file_path = os.path.join(merged_csv_path, \"merged_data.csv\")\n",
    "\n",
    "# Save the DataFrame to the full file path\n",
    "merged_df.to_csv(merged_file_path, index=False)\n",
    "\n",
    "# Print the saved file path\n",
    "print(f\"Merged CSV file saved at: {merged_file_path}\")"
   ]
  },
  {
   "cell_type": "code",
   "execution_count": 20,
   "id": "80958a6f-c281-440c-ac0a-8312b459ceb4",
   "metadata": {},
   "outputs": [],
   "source": [
    " # Step 6: Data Cleaning Process\n",
    "    # 1. Remove unnecessary metadata rows (if all values in a row are NaN)\n",
    "df = df.dropna(how='all')\n",
    "\n",
    "\n",
    "    "
   ]
  },
  {
   "cell_type": "code",
   "execution_count": 24,
   "id": "1db12b72-8de9-46b0-a16e-bd73745e545b",
   "metadata": {},
   "outputs": [],
   "source": [
    "df['Charge Capacity (mAh)'] = pd.to_numeric(df['Charge Capacity (mAh)'], errors='coerce')\n",
    "df['Discharge Capacity (mAh)'] = pd.to_numeric(df['Discharge Capacity (mAh)'], errors='coerce')"
   ]
  },
  {
   "cell_type": "code",
   "execution_count": 26,
   "id": "56ce0a45-22de-4a92-8037-df3d835f85e7",
   "metadata": {},
   "outputs": [],
   "source": [
    "# 3. Drop rows with NaN values in the relevant columns\n",
    "df.dropna(subset=['Charge Capacity (mAh)', 'Discharge Capacity (mAh)'], inplace=True)"
   ]
  },
  {
   "cell_type": "code",
   "execution_count": 29,
   "id": "6da23a3e-d24f-4812-b46b-5576ce3b9e29",
   "metadata": {},
   "outputs": [],
   "source": [
    "#Calculate Capacity =Charge Capacity (mAh) - Discharge Capacity (mAh)\n",
    "df['capacity'] = df['Charge Capacity (mAh)'] - df['Discharge Capacity (mAh)']"
   ]
  },
  {
   "cell_type": "code",
   "execution_count": 30,
   "id": "c854f388-20c4-42fc-8894-7c4e30b26c75",
   "metadata": {},
   "outputs": [],
   "source": [
    " # Step 8: Append the cleaned DataFrame to the list\n",
    "df_list.append(df)"
   ]
  },
  {
   "cell_type": "code",
   "execution_count": 31,
   "id": "39191dfe-b253-45cc-a0ab-25d00e57613b",
   "metadata": {},
   "outputs": [],
   "source": [
    "# Step 9: Merge all DataFrames into a single DataFrame\n",
    "merged_df = pd.concat(df_list, ignore_index=True)"
   ]
  },
  {
   "cell_type": "code",
   "execution_count": 32,
   "id": "fbbe524a-8e51-4f44-84c0-3beb753c3e93",
   "metadata": {},
   "outputs": [
    {
     "name": "stdout",
     "output_type": "stream",
     "text": [
      "Merged DataFrame after cleaning and processing:\n",
      "     Test  Cell   Rack Shelf  Position                   Cell ID  Step  \\\n",
      "0  6828.0   1.0  R.D05    S1      22.0  23082300069 000895-01 03   0.0   \n",
      "1  6828.0   1.0  R.D05    S1      22.0  23082300069 000895-01 03   0.0   \n",
      "2  6828.0   1.0  R.D05    S1      22.0  23082300069 000895-01 03   0.0   \n",
      "3  6828.0   1.0  R.D05    S1      22.0  23082300069 000895-01 03   0.0   \n",
      "4  6828.0   1.0  R.D05    S1      22.0  23082300069 000895-01 03   0.0   \n",
      "\n",
      "  Instruction Name  Cycle  Total Time (Seconds)  ...  24  \\\n",
      "0             Idle    0.0                  0.01  ... NaN   \n",
      "1             Idle    0.0                  5.00  ... NaN   \n",
      "2             Idle    0.0                 10.00  ... NaN   \n",
      "3             Idle    0.0                 15.00  ... NaN   \n",
      "4             Idle    0.0                 20.00  ... NaN   \n",
      "\n",
      "   23082300090 000895-01 03  -1333  18  23 23082300091 000895-01 03  184.8  \\\n",
      "0                       NaN    NaN NaN NaN                      NaN    NaN   \n",
      "1                       NaN    NaN NaN NaN                      NaN    NaN   \n",
      "2                       NaN    NaN NaN NaN                      NaN    NaN   \n",
      "3                       NaN    NaN NaN NaN                      NaN    NaN   \n",
      "4                       NaN    NaN NaN NaN                      NaN    NaN   \n",
      "\n",
      "   -1343  183.6  capacity  \n",
      "0    NaN    NaN       NaN  \n",
      "1    NaN    NaN       NaN  \n",
      "2    NaN    NaN       NaN  \n",
      "3    NaN    NaN       NaN  \n",
      "4    NaN    NaN       NaN  \n",
      "\n",
      "[5 rows x 169 columns]\n"
     ]
    }
   ],
   "source": [
    "# Step 10: Print the first few rows of the merged DataFrame to verify\n",
    "print(\"Merged DataFrame after cleaning and processing:\")\n",
    "print(merged_df.head(5))\n"
   ]
  },
  {
   "cell_type": "code",
   "execution_count": 40,
   "id": "af805108-305d-45aa-a1e8-12cddc8c494a",
   "metadata": {},
   "outputs": [
    {
     "name": "stdout",
     "output_type": "stream",
     "text": [
      "Merged CSV file saved at: C:\\Users\\navya\\Desktop\\Interview Exercise\\csv Dataset\\merged_data1.csv\n"
     ]
    }
   ],
   "source": [
    "# Define the directory where you want to save the CSV\n",
    "merged_csv_dir = r\"C:\\Users\\navya\\Desktop\\Interview Exercise\\csv Dataset\"\n",
    "\n",
    "# Define the full file path with a filename\n",
    "merged_csv_path = os.path.join(merged_csv_dir, \"merged_data1.csv\")\n",
    "\n",
    "# Save the DataFrame to the specified file path\n",
    "merged_df.to_csv(merged_csv_path, index=False)\n",
    "\n",
    "# Print the path where the file was saved\n",
    "print(f\"Merged CSV file saved at: {merged_csv_path}\")"
   ]
  },
  {
   "cell_type": "code",
   "execution_count": 42,
   "id": "0c300f6d-0738-49d8-ade8-906ce36abc62",
   "metadata": {},
   "outputs": [
    {
     "name": "stdout",
     "output_type": "stream",
     "text": [
      "\n",
      "Cell with the highest capacity:\n",
      "Test                         6829.0\n",
      "Cell                           19.0\n",
      "Rack                          R.D05\n",
      "Shelf                            S2\n",
      "Position                        1.0\n",
      "                             ...   \n",
      "23082300091 000895-01 03        NaN\n",
      "184.8                           NaN\n",
      "-1343                           NaN\n",
      "183.6                           NaN\n",
      "capacity                    25154.0\n",
      "Name: 357388, Length: 169, dtype: object\n"
     ]
    }
   ],
   "source": [
    "max_capacity_index = merged_df['capacity'].idxmax()\n",
    "max_capacity_row = merged_df.loc[max_capacity_index]\n",
    "# Print details of the row with the highest capacity\n",
    "print(\"\\nCell with the highest capacity:\")\n",
    "print(max_capacity_row)"
   ]
  },
  {
   "cell_type": "code",
   "execution_count": 48,
   "id": "6d1f22f6-ea05-4d91-bbd4-4275250b9fee",
   "metadata": {},
   "outputs": [
    {
     "data": {
      "image/png": "[encoded data removed]",
      "text/plain": [
       "<Figure size 1000x600 with 1 Axes>"
      ]
     },
     "metadata": {},
     "output_type": "display_data"
    }
   ],
   "source": [
    "# Set figure size\n",
    "plt.figure(figsize=(10, 6))\n",
    "\n",
    "# Create histogram with KDE (Kernel Density Estimation)\n",
    "sns.histplot(df['Charge Capacity (mAh)'], bins=20, kde=True)\n",
    "\n",
    "# Label axes and add title\n",
    "plt.xlabel('Capacity (mAh)')\n",
    "plt.ylabel('Frequency')\n",
    "plt.title('Distribution of Battery Cell Capacities')\n",
    "\n",
    "# Show the plot\n",
    "plt.show()"
   ]
  },
  {
   "cell_type": "code",
   "execution_count": 53,
   "id": "00ad9965-b8d2-4001-ad6e-b731a6f57430",
   "metadata": {},
   "outputs": [
    {
     "data": {
      "image/png": "[encoded data removed]",
      "text/plain": [
       "<Figure size 1200x600 with 1 Axes>"
      ]
     },
     "metadata": {},
     "output_type": "display_data"
    }
   ],
   "source": [
    "# Select the top 10 cells with the highest capacity\n",
    "top_10_cells = df.nlargest(10, 'Charge Capacity (mAh)')\n",
    "\n",
    "# Set figure size\n",
    "plt.figure(figsize=(12, 6))\n",
    "\n",
    "# Create bar plot\n",
    "sns.barplot(x=top_10_cells['Cell'], y=top_10_cells['Charge Capacity (mAh)'])\n",
    "\n",
    "# Label axes and add title\n",
    "plt.xlabel('Cell')\n",
    "plt.ylabel('Capacity (mAh)')\n",
    "plt.title('Top 10 Cells by Capacity')\n",
    "\n",
    "# Show the plot\n",
    "plt.show()"
   ]
  },
  {
   "cell_type": "code",
   "execution_count": null,
   "id": "4ee9c6ec-c0cc-4fc4-8654-f6286245a1ac",
   "metadata": {},
   "outputs": [],
   "source": []
  }
 ],
 "metadata": {
  "kernelspec": {
   "display_name": "Python 3 (ipykernel)",
   "language": "python",
   "name": "python3"
  },
  "language_info": {
   "codemirror_mode": {
    "name": "ipython",
    "version": 3
   },
   "file_extension": ".py",
   "mimetype": "text/x-python",
   "name": "python",
   "nbconvert_exporter": "python",
   "pygments_lexer": "ipython3",
   "version": "3.13.2"
  }
 },
 "nbformat": 4,
 "nbformat_minor": 5
}
